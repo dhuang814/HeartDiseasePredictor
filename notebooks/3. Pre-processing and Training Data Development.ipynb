{
 "cells": [
  {
   "cell_type": "code",
   "execution_count": 1,
   "id": "92b9bb5c",
   "metadata": {},
   "outputs": [],
   "source": [
    "import pandas as pd \n",
    "import numpy as np\n",
    "import seaborn as sns\n",
    "import matplotlib.pyplot as plt\n",
    "from sklearn.preprocessing import StandardScaler, MinMaxScaler, RobustScaler, MaxAbsScaler\n",
    "from sklearn.pipeline import Pipeline\n",
    "from sklearn.compose import ColumnTransformer\n",
    "from sklearn.impute import SimpleImputer\n",
    "from sklearn.model_selection import train_test_split\n",
    "from sklearn.model_selection import cross_val_score, KFold, train_test_split\n",
    "from sklearn.neighbors import KNeighborsClassifier\n",
    "from sklearn.linear_model import LogisticRegression\n",
    "from sklearn.tree import DecisionTreeClassifier\n",
    "from sklearn import tree\n",
    "from sklearn.preprocessing import OneHotEncoder\n",
    "from sklearn.metrics import classification_report, confusion_matrix, roc_auc_score, f1_score, precision_score, recall_score, accuracy_score\n",
    "from sklearn.ensemble import RandomForestClassifier\n",
    "from sklearn.svm import SVC\n",
    "from sklearn.neighbors import KNeighborsClassifier\n",
    "from sklearn.ensemble import GradientBoostingClassifier\n",
    "from sklearn.ensemble import AdaBoostClassifier\n",
    "from sklearn.naive_bayes import GaussianNB\n",
    "from sklearn.neural_network import MLPClassifier\n",
    "from sklearn.model_selection import cross_val_score\n",
    "from imblearn.over_sampling import SMOTE\n",
    "from sklearn.decomposition import PCA"
   ]
  },
  {
   "cell_type": "code",
   "execution_count": 2,
   "id": "01b53904",
   "metadata": {},
   "outputs": [],
   "source": [
    "df = pd.read_csv('BRFSS_cleaned2.csv', index_col = 0)"
   ]
  },
  {
   "cell_type": "markdown",
   "id": "c868511c",
   "metadata": {},
   "source": [
    "Impute NaN in GeneralHealth and LastCheckup"
   ]
  },
  {
   "cell_type": "code",
   "execution_count": 3,
   "id": "794178e3",
   "metadata": {},
   "outputs": [],
   "source": [
    "df['GeneralHealth'].fillna('Unsure', inplace = True)\n",
    "df['LastCheckup'].fillna('Unsure', inplace = True)"
   ]
  },
  {
   "cell_type": "markdown",
   "id": "39dcae22",
   "metadata": {},
   "source": [
    "Remove all NaN rows in df['RaceEthnicityGroup']"
   ]
  },
  {
   "cell_type": "code",
   "execution_count": 4,
   "id": "ee54cc81",
   "metadata": {},
   "outputs": [],
   "source": [
    "df= df.dropna(subset=['RaceEthnicityGroup'])"
   ]
  },
  {
   "cell_type": "markdown",
   "id": "f11c73b6",
   "metadata": {},
   "source": [
    "## Encode Categorical Data"
   ]
  },
  {
   "cell_type": "code",
   "execution_count": 5,
   "id": "f118d4e6",
   "metadata": {},
   "outputs": [],
   "source": [
    "gender = {\n",
    "    'Male': 1,\n",
    "    'Female': 0\n",
    "}\n",
    "df['Sex'] = df['Sex'].map(gender)"
   ]
  },
  {
   "cell_type": "code",
   "execution_count": 6,
   "id": "10f1eb6d",
   "metadata": {},
   "outputs": [],
   "source": [
    "genhealth = {\n",
    "    'Unsure': 0,\n",
    "    'Poor': 1,\n",
    "    'Fair': 2,\n",
    "    'Good': 3,\n",
    "    'Very Good': 4,\n",
    "    'Excellent': 5\n",
    "}\n",
    "\n",
    "df['GeneralHealth'] = df['GeneralHealth'].map(genhealth)"
   ]
  },
  {
   "cell_type": "code",
   "execution_count": 7,
   "id": "65e8b575",
   "metadata": {},
   "outputs": [],
   "source": [
    "checkup = {\n",
    "    'Never':0,\n",
    "    'Within past year (anytime less than 12 months ago)':1,\n",
    "    'Within past 2 years (1 year but less than 2 years ago)' :2,\n",
    "    'Within past 5 years (2 years but less than 5 years ago)':3,\n",
    "    '5 or more years ago': 4,\n",
    "    'Unsure' : 5\n",
    "}\n",
    "\n",
    "df['LastCheckup'] = df['LastCheckup'].map(checkup)"
   ]
  },
  {
   "cell_type": "code",
   "execution_count": 8,
   "id": "4e75fe01",
   "metadata": {},
   "outputs": [],
   "source": [
    "age = {\n",
    "    'Age 18 to 24': 0,\n",
    "    'Age 25 to 29': 1,\n",
    "    'Age 30 to 34': 2,\n",
    "    'Age 35 to 39': 3,\n",
    "    'Age 40 to 44': 4,\n",
    "    'Age 45 to 49': 5,\n",
    "    'Age 50 to 54': 6,\n",
    "    'Age 55 to 59': 7,\n",
    "    'Age 60 to 64': 8,\n",
    "    'Age 65 to 69': 9,\n",
    "    'Age 70 to 74': 10,\n",
    "    'Age 75 to 79': 11,\n",
    "    'Age 80 or older': 12\n",
    "}\n",
    "\n",
    "df['AgeGroup5yrs'] = df['AgeGroup5yrs'].map(age)"
   ]
  },
  {
   "cell_type": "code",
   "execution_count": 9,
   "id": "79519568",
   "metadata": {},
   "outputs": [],
   "source": [
    "smoked = {\n",
    "    'Never smoked': 0,\n",
    "    'Smoked': 1\n",
    "}\n",
    "\n",
    "df['Smoked'] = df['Smoked'].map(smoked)"
   ]
  },
  {
   "cell_type": "code",
   "execution_count": 10,
   "id": "5fa9a0b7",
   "metadata": {},
   "outputs": [],
   "source": [
    "yes_no = {\n",
    "    'Yes' : 1,\n",
    "    'No' : 0\n",
    "}\n",
    "\n",
    "df['ExerciseLast30days'] = df['ExerciseLast30days'].map(yes_no)\n",
    "df['HadHeartAttack'] = df['HadHeartAttack'].map(yes_no)\n",
    "df['HadAngina'] = df['HadAngina'].map(yes_no)\n",
    "df['HadStroke'] = df['HadStroke'].map(yes_no)\n",
    "df['HadAsthma'] = df['HadAsthma'].map(yes_no)\n",
    "df['HadSkinCancer'] = df['HadSkinCancer'].map(yes_no)\n",
    "df['HadCOPD'] = df['HadCOPD'].map(yes_no)\n",
    "df['HadDepressiveDisorder'] = df['HadDepressiveDisorder'].map(yes_no)\n",
    "df['HadKidneyDisease'] = df['HadKidneyDisease'].map(yes_no)\n",
    "df['HadArthritis'] = df['HadArthritis'].map(yes_no)\n",
    "df['Deaf'] = df['Deaf'].map(yes_no)\n",
    "df['Blind'] = df['Blind'].map(yes_no)\n",
    "df['DifficultyConcentrating'] = df['DifficultyConcentrating'].map(yes_no)\n",
    "df['DifficultyDressingOrBathing'] = df['DifficultyDressingOrBathing'].map(yes_no)\n",
    "df['DifficultyAloneErrands'] = df['DifficultyAloneErrands'].map(yes_no)\n",
    "df['HeartDisease'] = df['HeartDisease'].map(yes_no)\n",
    "df['HadChestScan'] = df['HadChestScan'].map(yes_no)\n",
    "df['FluShotLast12Months'] = df['FluShotLast12Months'].map(yes_no)\n",
    "df['HadPneumoniaShot'] = df['HadPneumoniaShot'].map(yes_no)\n",
    "df['HIVRisk'] = df['HIVRisk'].map(yes_no)\n",
    "df['AlcoholLast30days'] = df['AlcoholLast30days'].map(yes_no)\n",
    "df['TestedForHIV'] = df['TestedForHIV'].map(yes_no)\n",
    "df['DifficultyWalking'] = df['DifficultyWalking'].map(yes_no)\n"
   ]
  },
  {
   "cell_type": "code",
   "execution_count": 11,
   "id": "cf48068b",
   "metadata": {},
   "outputs": [],
   "source": [
    "diabete = {\n",
    "    'No' : 0,\n",
    "    'Yes' : 1,\n",
    "    'No, pre-diabetes or borderline diabetes' : 0,\n",
    "    'Yes, but female told only during pregnancy' : 1\n",
    "}\n",
    "\n",
    "df['HadDiabetes'] = df['HadDiabetes'].map(diabete)"
   ]
  },
  {
   "cell_type": "code",
   "execution_count": 12,
   "id": "feb6b490",
   "metadata": {},
   "outputs": [],
   "source": [
    "ecig = {\n",
    "    'Never used e-cigarettes in your entire life' : 0,\n",
    "    'Not at all (right now)' : 0,\n",
    "    'Use them every day' : 1,\n",
    "    'Use them some days':1\n",
    "}\n",
    "\n",
    "df['EcigUsage'] = df['EcigUsage'].map(ecig)"
   ]
  },
  {
   "cell_type": "code",
   "execution_count": 13,
   "id": "83faae77",
   "metadata": {},
   "outputs": [],
   "source": [
    "tetshot = {\n",
    "    'No, did not receive any tetanus shot in the past 10 years':0,\n",
    "    'Yes, received tetanus shot but not sure what type': 1,\n",
    "    'Yes, received Tdap': 1,\n",
    "    'Yes, received tetanus shot, but not Tdap': 1\n",
    "}\n",
    "\n",
    "df['HadTetanusShot'] = df['HadTetanusShot'].map(tetshot)"
   ]
  },
  {
   "cell_type": "code",
   "execution_count": 14,
   "id": "3a05d526",
   "metadata": {},
   "outputs": [],
   "source": [
    "covid = {\n",
    "    'Tested positive using home test without health professional': 1,\n",
    "    'Yes' : 1,\n",
    "    'No' : 0\n",
    "}\n",
    "\n",
    "df['HadCovid'] = df['HadCovid'].map(covid)"
   ]
  },
  {
   "cell_type": "code",
   "execution_count": 15,
   "id": "44a44b44",
   "metadata": {},
   "outputs": [],
   "source": [
    "race = {\n",
    "    'White only, non-Hispanic' : 0,\n",
    "    'Black only, non-Hispanic': 1,\n",
    "    'Hispanic': 2,\n",
    "    'Asian only, non-Hispanic': 3,\n",
    "    'American Indian or Alaskan Native only, Non-Hispanic': 4,\n",
    "    'Native Hawaiian or other Pacific Islander only, Non-Hispanic': 5,\n",
    "    'Multiracial, non-Hispanic': 6\n",
    "}\n",
    "\n",
    "df['RaceEthnicityGroup'] = df['RaceEthnicityGroup'].map(race)\n",
    "\n"
   ]
  },
  {
   "cell_type": "code",
   "execution_count": 16,
   "id": "364b5e6f",
   "metadata": {},
   "outputs": [],
   "source": [
    "state = {\n",
    "    \"Alabama\": 1,\n",
    "    \"Alaska\" : 2,\n",
    "    \"Arizona\": 3,\n",
    "    \"Arkansas\" : 4,\n",
    "    \"California\": 5,\n",
    "    \"Colorado\": 6,\n",
    "    \"Connecticut\": 7,\n",
    "    \"Delaware\": 8,\n",
    "    \"District of Columbia\": 9,\n",
    "    \"Florida\": 10,\n",
    "    \"Georgia\": 11,\n",
    "    \"Hawaii\": 12,\n",
    "    \"Idaho\": 13,\n",
    "    \"Illinois\": 14,\n",
    "    \"Indiana\": 15,\n",
    "    \"Iowa\": 16,\n",
    "    \"Kansas\": 17,\n",
    "    \"Kentucky\": 18,\n",
    "    \"Louisiana\": 19,\n",
    "    \"Maine\": 20,\n",
    "    \"Maryland\": 21,\n",
    "    \"Massachusetts\": 22,\n",
    "    \"Michigan\" : 23,\n",
    "    \"Minnesota\": 24,\n",
    "    \"Mississippi\": 25,\n",
    "    \"Missouri\": 26,\n",
    "    \"Montana\":27,\n",
    "    \"Nebraska\":28,\n",
    "    \"Nevada\":29,\n",
    "    \"New Hampshire\":30,\n",
    "    \"New Jersey\":31,\n",
    "    \"New Mexico\":32,\n",
    "    \"New York\":33,\n",
    "    \"North Carolina\":34,\n",
    "    \"North Dakota\":35,\n",
    "    \"Ohio\":36,\n",
    "    \"Oklahoma\":37,\n",
    "    \"Oregon\":38,\n",
    "    \"Pennsylvania\":39,\n",
    "    \"Rhode Island\":40,\n",
    "    \"South Carolina\":41,\n",
    "    \"South Dakota\":42,\n",
    "    \"Tennessee\":43,\n",
    "    \"Texas\":44,\n",
    "    \"Utah\":45,\n",
    "    \"Vermont\":46,\n",
    "    \"Virginia\":47,\n",
    "    \"Washington\":48,\n",
    "    \"West Virginia\":49,\n",
    "    \"Wisconsin\":50,\n",
    "    \"Wyoming\":51,\n",
    "    \"Guam\":52,\n",
    "    \"Puerto Rico\":53,\n",
    "    \"Virgin Islands\":54\n",
    "}\n",
    "\n",
    "df['State'] = df['State'].map(state)"
   ]
  },
  {
   "cell_type": "markdown",
   "id": "8dc3ed18",
   "metadata": {},
   "source": [
    "Dropping Columns based on Feature importance"
   ]
  },
  {
   "cell_type": "code",
   "execution_count": 17,
   "id": "6e932c4a",
   "metadata": {},
   "outputs": [],
   "source": [
    "columns_drop = ['HIVRisk',\n",
    "                'isObese',\n",
    "                'DifficultyConcentrating',\n",
    "                'HadAsthma',\n",
    "                'Blind',\n",
    "                'HadDepressiveDisorder',\n",
    "                'TestedForHIV',\n",
    "                'AlcoholLast30days',\n",
    "                'HadSkinCancer',\n",
    "                'DifficultyDressingOrBathing',\n",
    "                'FluShotLast12Months',\n",
    "                'DifficultyAloneErrands',\n",
    "                'LevelOfSmoker',\n",
    "                'HadChestScan',\n",
    "                'HadPneumoniaShot',\n",
    "                'HadTetanusShot',\n",
    "                'HadHeartAttack']"
   ]
  },
  {
   "cell_type": "code",
   "execution_count": 18,
   "id": "3a303d78",
   "metadata": {},
   "outputs": [],
   "source": [
    "df = df.drop(columns = columns_drop)"
   ]
  },
  {
   "cell_type": "code",
   "execution_count": null,
   "id": "3737d105",
   "metadata": {},
   "outputs": [],
   "source": [
    "df.to_csv('modelingdf.csv')"
   ]
  }
 ],
 "metadata": {
  "kernelspec": {
   "display_name": "Python 3 (ipykernel)",
   "language": "python",
   "name": "python3"
  },
  "language_info": {
   "codemirror_mode": {
    "name": "ipython",
    "version": 3
   },
   "file_extension": ".py",
   "mimetype": "text/x-python",
   "name": "python",
   "nbconvert_exporter": "python",
   "pygments_lexer": "ipython3",
   "version": "3.11.3"
  }
 },
 "nbformat": 4,
 "nbformat_minor": 5
}
